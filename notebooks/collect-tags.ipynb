{
 "cells": [
  {
   "cell_type": "markdown",
   "metadata": {},
   "source": [
    "# Collecting stay tags"
   ]
  },
  {
   "cell_type": "code",
   "execution_count": 14,
   "metadata": {
    "collapsed": true
   },
   "outputs": [],
   "source": [
    "import json\n",
    "import pickle"
   ]
  },
  {
   "cell_type": "markdown",
   "metadata": {},
   "source": [
    "The tags are retrieved by `scripts/get-tags.js` and stored as a JSON array in data/derived_tag_concepts.json. The result goes into a pickled dictionary."
   ]
  },
  {
   "cell_type": "code",
   "execution_count": 36,
   "metadata": {
    "collapsed": true
   },
   "outputs": [],
   "source": [
    "TAGLIST = \"../data/derived_tag_concepts.json\"\n",
    "STAY_TAGS = \"../data/stay_tags.pkl\""
   ]
  },
  {
   "cell_type": "code",
   "execution_count": 37,
   "metadata": {},
   "outputs": [],
   "source": [
    "with open(TAGLIST, \"r\") as f:\n",
    "    taglist = json.load(f)"
   ]
  },
  {
   "cell_type": "code",
   "execution_count": 38,
   "metadata": {},
   "outputs": [],
   "source": [
    "stay_tags = {}\n",
    "for t in taglist:\n",
    "    if t['stay'] not in stay_tags:\n",
    "        stay_tags[t['stay']] = []\n",
    "    stay_tags[t['stay']].append(dict((k, t[k]) for k in ['time', 'concept']))"
   ]
  },
  {
   "cell_type": "markdown",
   "metadata": {},
   "source": [
    "We sort times as strings because parsing is slow. Hopefully it works well enough."
   ]
  },
  {
   "cell_type": "code",
   "execution_count": 41,
   "metadata": {},
   "outputs": [],
   "source": [
    "for k, v in stay_tags.items():\n",
    "    stay_tags[k] = sorted(v, key=lambda x: x['time'])"
   ]
  },
  {
   "cell_type": "code",
   "execution_count": 42,
   "metadata": {
    "collapsed": true
   },
   "outputs": [],
   "source": [
    "with open(STAY_TAGS, \"wb\") as f:\n",
    "    pickle.dump(stay_tags, f)"
   ]
  },
  {
   "cell_type": "code",
   "execution_count": 43,
   "metadata": {},
   "outputs": [
    {
     "data": {
      "text/plain": [
       "[{'concept': 'deterioration_shock', 'time': '2013-11-03T14:03:00Z'},\n",
       " {'concept': 'shock', 'time': '2013-11-03T14:03:00Z'},\n",
       " {'concept': 'deterioration_light_shock', 'time': '2013-11-03T14:03:00Z'},\n",
       " {'concept': 'deterioration_pan_shock', 'time': '2013-11-03T14:03:00Z'},\n",
       " {'concept': 'deterioration_physiology_shock', 'time': '2013-11-03T15:12:00Z'},\n",
       " {'concept': 'deterioration_physiology_shock', 'time': '2013-11-03T22:13:00Z'},\n",
       " {'concept': 'deterioration_pan_shock', 'time': '2013-11-03T22:13:00Z'},\n",
       " {'concept': 'deterioration_pan_shock', 'time': '2013-11-04T06:12:00Z'},\n",
       " {'concept': 'deterioration_physiology_shock', 'time': '2013-11-04T08:31:00Z'},\n",
       " {'concept': 'deterioration_pan_shock', 'time': '2013-11-04T10:52:00Z'}]"
      ]
     },
     "execution_count": 43,
     "metadata": {},
     "output_type": "execute_result"
    }
   ],
   "source": [
    "stay_tags['Ichilov_MICU_20146']"
   ]
  }
 ],
 "metadata": {
  "kernelspec": {
   "display_name": "Python 3",
   "language": "python",
   "name": "python3"
  },
  "language_info": {
   "codemirror_mode": {
    "name": "ipython",
    "version": 3
   },
   "file_extension": ".py",
   "mimetype": "text/x-python",
   "name": "python",
   "nbconvert_exporter": "python",
   "pygments_lexer": "ipython3",
   "version": "3.6.3"
  }
 },
 "nbformat": 4,
 "nbformat_minor": 2
}
