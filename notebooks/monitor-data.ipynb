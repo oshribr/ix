{
 "cells": [
  {
   "cell_type": "markdown",
   "metadata": {},
   "source": [
    "# Data Set for Monitor Time Series Prediction\n",
    "\n",
    "We need the following fields from a single collection, raw:"
   ]
  },
  {
   "cell_type": "code",
   "execution_count": 1,
   "metadata": {
    "collapsed": true
   },
   "outputs": [],
   "source": [
    "CONCEPTS = [\"HR\", \"InvBPDias\", \"InvBPSys\", \"SpO2\",\n",
    "            \"Temperature monitor\", \"Central Venous Pressure\",\n",
    "                   \"RRtotal\"]"
   ]
  },
  {
   "cell_type": "markdown",
   "metadata": {},
   "source": [
    "The data will go into files, pickled."
   ]
  },
  {
   "cell_type": "code",
   "execution_count": 2,
   "metadata": {
    "collapsed": true
   },
   "outputs": [],
   "source": [
    "RAW_STAY = \"../data/monitor-dataset-{}.pkl\"\n",
    "STAY_TAGS = \"../data/stay_tags.pkl\""
   ]
  },
  {
   "cell_type": "markdown",
   "metadata": {},
   "source": [
    "Let's check that we at least have all of these features."
   ]
  },
  {
   "cell_type": "code",
   "execution_count": 7,
   "metadata": {
    "collapsed": true
   },
   "outputs": [],
   "source": [
    "import sys\n",
    "sys.path.append(\"/home/david/work/intensone/analytics/\")"
   ]
  },
  {
   "cell_type": "code",
   "execution_count": 8,
   "metadata": {},
   "outputs": [],
   "source": [
    "from knowledge.knowledge_dao.knowledge_read_dao_mongo import knowledgeReadDAOMongo\n",
    "from db.mongo.queries import connect_to_mongo\n",
    "from res.DB_PARAMS import CONFIGDB\n",
    "from predictor.features.data_collector.data_collector import DataCollector\n",
    "import pandas\n",
    "import numpy\n",
    "import numpy.random\n",
    "import pickle"
   ]
  },
  {
   "cell_type": "code",
   "execution_count": 29,
   "metadata": {},
   "outputs": [
    {
     "data": {
      "text/plain": [
       "'KnowledgeApi'"
      ]
     },
     "execution_count": 29,
     "metadata": {},
     "output_type": "execute_result"
    }
   ],
   "source": [
    "CONFIGDB"
   ]
  },
  {
   "cell_type": "code",
   "execution_count": 9,
   "metadata": {},
   "outputs": [],
   "source": [
    "config_connection = connect_to_mongo(CONFIGDB)\n",
    "knowledge_read_dao = knowledgeReadDAOMongo(config_connection)\n",
    "primary_concept_names = knowledge_read_dao.get_all_primary_concept_names()\n",
    "derived_concept_names = knowledge_read_dao.get_all_derived_concept_names()\n",
    "assert not set(CONCEPTS).difference(set(primary_concept_names).union(set(derived_concept_names)))"
   ]
  },
  {
   "cell_type": "markdown",
   "metadata": {},
   "source": [
    "If the assert above is silent, we are ok. Now, we follow `./predictor/features/sample_concepts/sample_concepts.py` to read the concept data into a data frame."
   ]
  },
  {
   "cell_type": "code",
   "execution_count": 38,
   "metadata": {
    "collapsed": true
   },
   "outputs": [],
   "source": [
    "# COLLECTION = \"IntensixDBIchilov5\"\n",
    "# COLLECTION = \"IntensixDBMayo7\"\n",
    "COLLECTION = \"IntensixDB2015_4\"\n",
    "data_connection = connect_to_mongo(COLLECTION)"
   ]
  },
  {
   "cell_type": "code",
   "execution_count": 39,
   "metadata": {
    "collapsed": true
   },
   "outputs": [],
   "source": [
    "collector = DataCollector(data_connection, concepts=CONCEPTS, \n",
    "                          config_connection=config_connection)"
   ]
  },
  {
   "cell_type": "markdown",
   "metadata": {},
   "source": [
    "We also load the dictionary of stay tags, retrieved earlier."
   ]
  },
  {
   "cell_type": "code",
   "execution_count": 32,
   "metadata": {
    "collapsed": true
   },
   "outputs": [],
   "source": [
    "with open(STAY_TAGS, \"rb\") as f:\n",
    "    stay_tags = pickle.load(f)"
   ]
  },
  {
   "cell_type": "markdown",
   "metadata": {},
   "source": [
    "We need to get the list of all stays in the collection because we are going to iterate through them."
   ]
  },
  {
   "cell_type": "code",
   "execution_count": 40,
   "metadata": {},
   "outputs": [
    {
     "data": {
      "text/plain": [
       "1026"
      ]
     },
     "execution_count": 40,
     "metadata": {},
     "output_type": "execute_result"
    }
   ],
   "source": [
    "all_stays = collector.get_all_db_stays()\n",
    "len(all_stays)"
   ]
  },
  {
   "cell_type": "code",
   "execution_count": 41,
   "metadata": {
    "collapsed": true
   },
   "outputs": [],
   "source": [
    "SUBSET = False\n",
    "NSTAYS = 200\n",
    "if SUBSET:\n",
    "    stays = numpy.random.choice(all_stays, size=NSTAYS, replace=False)\n",
    "else:\n",
    "    stays = all_stays"
   ]
  },
  {
   "cell_type": "markdown",
   "metadata": {},
   "source": [
    "We'll just build a dataset as a collection of pickled dataframes."
   ]
  },
  {
   "cell_type": "code",
   "execution_count": 42,
   "metadata": {
    "scrolled": false
   },
   "outputs": [
    {
     "name": "stdout",
     "output_type": "stream",
     "text": [
      "..........100 ..........200 ..........300 ..........400 ..........500 ..........600 ..........700 ..........800 ..........900 ..........1000 ..."
     ]
    }
   ],
   "source": [
    "dataset = {}\n",
    "\n",
    "for i, stay in enumerate(stays):\n",
    "    if i % 10 == 0:\n",
    "        print(\".\", end=\"\")\n",
    "    if (i + 1) % 100 == 0:\n",
    "        print(i + 1, end=\" \")\n",
    "    stay_info = collector.get_stay_info(stay)\n",
    "    df = collector.get_series_list(CONCEPTS, stay,\n",
    "                                   stay_info[\"start_date\"], stay_info[\"end_date\"],\n",
    "                                   usage=\"prospective\")\n",
    "    if not df.empty:\n",
    "        # Augment the stay with tags, any better way to do that?\n",
    "        if stay in stay_tags:\n",
    "            tags = pandas.DataFrame.from_dict(stay_tags[stay])\n",
    "            tags.drop('value', axis=1, inplace=True)\n",
    "            tags.rename(columns={'concept': 'tag'}, inplace=True)\n",
    "            tags.set_index('time', inplace=True)\n",
    "            df = df.join(tags)\n",
    "            df['tag'].fillna('', inplace=True)\n",
    "        else:\n",
    "            df['tag'] = ''\n",
    "\n",
    "        with open(RAW_STAY.format(stay), \"wb\") as file:\n",
    "            pickle.dump(df, file)\n",
    "        dataset[stay] = df"
   ]
  },
  {
   "cell_type": "markdown",
   "metadata": {},
   "source": [
    "We can play with the data here a little bit:"
   ]
  },
  {
   "cell_type": "code",
   "execution_count": 16,
   "metadata": {
    "scrolled": true
   },
   "outputs": [
    {
     "ename": "ValueError",
     "evalue": "a must be non-empty",
     "output_type": "error",
     "traceback": [
      "\u001b[0;31m---------------------------------------------------------------------------\u001b[0m",
      "\u001b[0;31mValueError\u001b[0m                                Traceback (most recent call last)",
      "\u001b[0;32m<ipython-input-16-1072a310b6fc>\u001b[0m in \u001b[0;36m<module>\u001b[0;34m()\u001b[0m\n\u001b[0;32m----> 1\u001b[0;31m \u001b[0mstay_id\u001b[0m \u001b[0;34m=\u001b[0m \u001b[0mnumpy\u001b[0m\u001b[0;34m.\u001b[0m\u001b[0mrandom\u001b[0m\u001b[0;34m.\u001b[0m\u001b[0mchoice\u001b[0m\u001b[0;34m(\u001b[0m\u001b[0mstays\u001b[0m\u001b[0;34m)\u001b[0m\u001b[0;34m\u001b[0m\u001b[0m\n\u001b[0m\u001b[1;32m      2\u001b[0m \u001b[0;31m# stay_id = 'Mayo_MICU_Y8MM44A_20160727'\u001b[0m\u001b[0;34m\u001b[0m\u001b[0;34m\u001b[0m\u001b[0m\n\u001b[1;32m      3\u001b[0m \u001b[0;31m# stay_id = 'Mayo_MICU_A086O0Y_20710815'\u001b[0m\u001b[0;34m\u001b[0m\u001b[0;34m\u001b[0m\u001b[0m\n\u001b[1;32m      4\u001b[0m \u001b[0mprint\u001b[0m\u001b[0;34m(\u001b[0m\u001b[0mstay_id\u001b[0m\u001b[0;34m)\u001b[0m\u001b[0;34m\u001b[0m\u001b[0m\n\u001b[1;32m      5\u001b[0m \u001b[0;32mwith\u001b[0m \u001b[0mopen\u001b[0m\u001b[0;34m(\u001b[0m\u001b[0mRAW_STAY\u001b[0m\u001b[0;34m.\u001b[0m\u001b[0mformat\u001b[0m\u001b[0;34m(\u001b[0m\u001b[0mstay_id\u001b[0m\u001b[0;34m)\u001b[0m\u001b[0;34m,\u001b[0m \u001b[0;34m\"rb\"\u001b[0m\u001b[0;34m)\u001b[0m \u001b[0;32mas\u001b[0m \u001b[0mf\u001b[0m\u001b[0;34m:\u001b[0m\u001b[0;34m\u001b[0m\u001b[0m\n",
      "\u001b[0;32mmtrand.pyx\u001b[0m in \u001b[0;36mmtrand.RandomState.choice (numpy/random/mtrand/mtrand.c:17200)\u001b[0;34m()\u001b[0m\n",
      "\u001b[0;31mValueError\u001b[0m: a must be non-empty"
     ]
    }
   ],
   "source": [
    "stay_id = numpy.random.choice(stays)\n",
    "# stay_id = 'Mayo_MICU_Y8MM44A_20160727'\n",
    "# stay_id = 'Mayo_MICU_A086O0Y_20710815'\n",
    "print(stay_id)\n",
    "with open(RAW_STAY.format(stay_id), \"rb\") as f:\n",
    "    df = pickle.load(f)\n",
    "df[numpy.logical_not(numpy.isnan(df['HR']))]"
   ]
  },
  {
   "cell_type": "code",
   "execution_count": null,
   "metadata": {
    "collapsed": true
   },
   "outputs": [],
   "source": []
  }
 ],
 "metadata": {
  "kernelspec": {
   "display_name": "Python 3",
   "language": "python",
   "name": "python3"
  },
  "language_info": {
   "codemirror_mode": {
    "name": "ipython",
    "version": 3
   },
   "file_extension": ".py",
   "mimetype": "text/x-python",
   "name": "python",
   "nbconvert_exporter": "python",
   "pygments_lexer": "ipython3",
   "version": "3.6.3"
  }
 },
 "nbformat": 4,
 "nbformat_minor": 2
}
