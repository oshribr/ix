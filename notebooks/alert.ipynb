{
 "cells": [
  {
   "cell_type": "markdown",
   "metadata": {},
   "source": [
    "# Extracting alerts"
   ]
  },
  {
   "cell_type": "code",
   "execution_count": 1,
   "metadata": {
    "collapsed": true
   },
   "outputs": [],
   "source": [
    "import pickle\n",
    "import pandas\n",
    "import json\n",
    "import pprint\n",
    "import os\n",
    "import os.path\n",
    "import re\n",
    "import numpy\n",
    "import scipy.stats\n",
    "import matplotlib.pyplot as plt\n",
    "%matplotlib inline"
   ]
  },
  {
   "cell_type": "code",
   "execution_count": 2,
   "metadata": {
    "collapsed": true
   },
   "outputs": [],
   "source": [
    "CONCEPTS = [\"HR\", \"InvBPDias\", \"InvBPSys\", \"SpO2\", \"RRtotal\"]\n",
    "\n",
    "PATTERN = \"Ichilov_MICU_.....\"\n",
    "SUFFIX = \"HR,SpO2,InvBPSys,InvBPDias,RRtotal-15:15-rnn-128-3-0.5\"\n",
    "\n",
    "DATA = \"../data\"\n",
    "STAY_ALERTS = os.path.join(DATA, \"stay_alerts-{}.pkl\".format(SUFFIX))\n",
    "ALERT_RECORDS = os.path.join(DATA, \"alerts-{}.json\".format(SUFFIX))\n",
    "\n",
    "\n",
    "SOMESTAYS = os.path.join(DATA, \"somestays\")\n",
    "LABELED_SOMESTAY_ALERTS = os.path.join(DATA, \"labeled_somestay_alerts-{}.pkl\".format(SUFFIX))"
   ]
  },
  {
   "cell_type": "markdown",
   "metadata": {},
   "source": [
    "For comparison we also load stay tags."
   ]
  },
  {
   "cell_type": "code",
   "execution_count": 22,
   "metadata": {
    "collapsed": true
   },
   "outputs": [],
   "source": [
    "STAY_TAGS = os.path.join(DATA, \"stay_tags.pkl\")\n",
    "with open(STAY_TAGS, \"rb\") as f:\n",
    "    stay_tags = pickle.load(f)"
   ]
  },
  {
   "cell_type": "markdown",
   "metadata": {},
   "source": [
    "We average over a window and issue alerts if above the thresholds."
   ]
  },
  {
   "cell_type": "code",
   "execution_count": 23,
   "metadata": {
    "collapsed": true
   },
   "outputs": [],
   "source": [
    "WINDOW = '15min'\n",
    "NLL_THRESHOLD = 2"
   ]
  },
  {
   "cell_type": "code",
   "execution_count": 24,
   "metadata": {
    "collapsed": true
   },
   "outputs": [],
   "source": [
    "MAX_NLL = 5\n",
    "MIN_NLL = -3\n",
    "\n",
    "def cutoff(nll):\n",
    "    \"\"\"Cutoffs extreme NLL values for better presentation\n",
    "    \"\"\"\n",
    "    shift = (MAX_NLL + MIN_NLL)/2\n",
    "    scale = (MAX_NLL - MIN_NLL)/2\n",
    "    return scale*numpy.tanh((nll - shift)/scale) + shift"
   ]
  },
  {
   "cell_type": "markdown",
   "metadata": {},
   "source": [
    "We go over stays now and collect alerts caused by average NLL exceeding the threshold. "
   ]
  },
  {
   "cell_type": "code",
   "execution_count": 9,
   "metadata": {
    "scrolled": true
   },
   "outputs": [
    {
     "name": "stdout",
     "output_type": "stream",
     "text": [
      "stay Ichilov_MICU_20002: 9 alerts, 3 tags\n",
      "stay Ichilov_MICU_20004: 6 alerts, 2 tags\n",
      "stay Ichilov_MICU_20005: 3 alerts, 7 tags\n",
      "stay Ichilov_MICU_20006: 2 alerts, 17 tags\n",
      "stay Ichilov_MICU_20007: 2 alerts, no tags\n",
      "stay Ichilov_MICU_20008: 7 alerts, no tags\n",
      "stay Ichilov_MICU_20009: 4 alerts, no tags\n",
      "stay Ichilov_MICU_20010: 8 alerts, 6 tags\n",
      "stay Ichilov_MICU_20011: 20 alerts, 5 tags\n",
      "stay Ichilov_MICU_20012: 15 alerts, 9 tags\n",
      "stay Ichilov_MICU_20013: 73 alerts, 67 tags\n",
      "stay Ichilov_MICU_20014: 71 alerts, 31 tags\n",
      "stay Ichilov_MICU_20015: 89 alerts, 49 tags\n",
      "stay Ichilov_MICU_20016: 2 alerts, 11 tags\n",
      "stay Ichilov_MICU_20017: 22 alerts, 21 tags\n",
      "stay Ichilov_MICU_20018: 78 alerts, 134 tags\n",
      "stay Ichilov_MICU_20019: 9 alerts, 3 tags\n",
      "stay Ichilov_MICU_20020: 17 alerts, 8 tags\n",
      "stay Ichilov_MICU_20021: 46 alerts, 122 tags\n",
      "stay Ichilov_MICU_20023: 47 alerts, 5 tags\n",
      "stay Ichilov_MICU_20025: 3 alerts, no tags\n",
      "stay Ichilov_MICU_20026: 2 alerts, no tags\n",
      "stay Ichilov_MICU_20027: 2 alerts, no tags\n",
      "stay Ichilov_MICU_20029: 27 alerts, 11 tags\n",
      "stay Ichilov_MICU_20030: 1 alerts, no tags\n",
      "stay Ichilov_MICU_20031: 6 alerts, 2 tags\n",
      "stay Ichilov_MICU_20032: 25 alerts, 22 tags\n",
      "stay Ichilov_MICU_20033: 15 alerts, 13 tags\n",
      "stay Ichilov_MICU_20037: 10 alerts, no tags\n",
      "stay Ichilov_MICU_20038: 5 alerts, 1 tags\n",
      "stay Ichilov_MICU_20039: 7 alerts, 5 tags\n",
      "stay Ichilov_MICU_20040: 78 alerts, 8 tags\n",
      "stay Ichilov_MICU_20041: 1 alerts, 1 tags\n",
      "stay Ichilov_MICU_20042: 2 alerts, 1 tags\n",
      "stay Ichilov_MICU_20043: 16 alerts, 16 tags\n",
      "stay Ichilov_MICU_20045: 27 alerts, 14 tags\n",
      "stay Ichilov_MICU_20046: 9 alerts, no tags\n",
      "stay Ichilov_MICU_20047: 11 alerts, 22 tags\n",
      "stay Ichilov_MICU_20048: 15 alerts, 25 tags\n",
      "stay Ichilov_MICU_20049: 1 alerts, 3 tags\n",
      "stay Ichilov_MICU_20050: 2 alerts, no tags\n",
      "stay Ichilov_MICU_20051: 33 alerts, 6 tags\n",
      "stay Ichilov_MICU_20052: 6 alerts, 26 tags\n",
      "stay Ichilov_MICU_20053: 7 alerts, 2 tags\n",
      "stay Ichilov_MICU_20054: 8 alerts, 2 tags\n",
      "stay Ichilov_MICU_20055: 3 alerts, 7 tags\n",
      "stay Ichilov_MICU_20056: 6 alerts, no tags\n",
      "stay Ichilov_MICU_20057: 24 alerts, no tags\n",
      "stay Ichilov_MICU_20058: 11 alerts, 3 tags\n",
      "stay Ichilov_MICU_20060: 1 alerts, no tags\n",
      "stay Ichilov_MICU_20061: 115 alerts, 47 tags\n",
      "stay Ichilov_MICU_20062: 32 alerts, 2 tags\n",
      "stay Ichilov_MICU_20063: 31 alerts, 108 tags\n",
      "stay Ichilov_MICU_20064: 2 alerts, no tags\n",
      "stay Ichilov_MICU_20065: 51 alerts, 74 tags\n",
      "stay Ichilov_MICU_20066: 6 alerts, 19 tags\n",
      "stay Ichilov_MICU_20067: 66 alerts, 5 tags\n",
      "stay Ichilov_MICU_20068: 8 alerts, 19 tags\n",
      "stay Ichilov_MICU_20069: 22 alerts, 37 tags\n",
      "stay Ichilov_MICU_20071: 3 alerts, 2 tags\n",
      "stay Ichilov_MICU_20072: 15 alerts, 21 tags\n",
      "stay Ichilov_MICU_20073: 3 alerts, 5 tags\n",
      "stay Ichilov_MICU_20074: 88 alerts, 10 tags\n",
      "stay Ichilov_MICU_20075: 2 alerts, no tags\n",
      "stay Ichilov_MICU_20076: 71 alerts, 43 tags\n",
      "stay Ichilov_MICU_20077: 1 alerts, no tags\n",
      "stay Ichilov_MICU_20079: 8 alerts, 1 tags\n",
      "stay Ichilov_MICU_20080: 1 alerts, no tags\n",
      "stay Ichilov_MICU_20081: 3 alerts, no tags\n",
      "stay Ichilov_MICU_20083: 2 alerts, no tags\n",
      "stay Ichilov_MICU_20084: 1 alerts, no tags\n",
      "stay Ichilov_MICU_20085: 67 alerts, 4 tags\n",
      "stay Ichilov_MICU_20086: 4 alerts, no tags\n",
      "stay Ichilov_MICU_20087: 2 alerts, 2 tags\n",
      "stay Ichilov_MICU_20090: 3 alerts, no tags\n",
      "stay Ichilov_MICU_20091: 1 alerts, 2 tags\n",
      "stay Ichilov_MICU_20092: 23 alerts, 20 tags\n",
      "stay Ichilov_MICU_20093: 27 alerts, 7 tags\n",
      "stay Ichilov_MICU_20094: 180 alerts, 46 tags\n",
      "stay Ichilov_MICU_20095: 7 alerts, 20 tags\n",
      "stay Ichilov_MICU_20096: 1 alerts, no tags\n",
      "stay Ichilov_MICU_20097: 6 alerts, 1 tags\n",
      "stay Ichilov_MICU_20099: 3 alerts, no tags\n",
      "stay Ichilov_MICU_20100: 16 alerts, 6 tags\n",
      "stay Ichilov_MICU_20101: 18 alerts, 40 tags\n",
      "stay Ichilov_MICU_20102: 9 alerts, 8 tags\n",
      "stay Ichilov_MICU_20103: 21 alerts, 36 tags\n",
      "stay Ichilov_MICU_20104: 16 alerts, 41 tags\n",
      "stay Ichilov_MICU_20105: 13 alerts, 13 tags\n",
      "stay Ichilov_MICU_20106: 28 alerts, 6 tags\n",
      "stay Ichilov_MICU_20107: 4 alerts, no tags\n",
      "stay Ichilov_MICU_20108: 2 alerts, no tags\n",
      "stay Ichilov_MICU_20110: 2 alerts, no tags\n",
      "stay Ichilov_MICU_20111: 6 alerts, no tags\n",
      "stay Ichilov_MICU_20112: 18 alerts, 6 tags\n",
      "stay Ichilov_MICU_20113: 18 alerts, 24 tags\n",
      "stay Ichilov_MICU_20114: 1 alerts, no tags\n",
      "stay Ichilov_MICU_20117: 27 alerts, 2 tags\n",
      "stay Ichilov_MICU_20118: 3 alerts, no tags\n",
      "stay Ichilov_MICU_20119: 9 alerts, no tags\n",
      "stay Ichilov_MICU_20121: 2 alerts, no tags\n",
      "stay Ichilov_MICU_20122: 86 alerts, 44 tags\n",
      "stay Ichilov_MICU_20123: 4 alerts, 6 tags\n",
      "stay Ichilov_MICU_20125: 1 alerts, no tags\n",
      "stay Ichilov_MICU_20126: 4 alerts, 3 tags\n",
      "stay Ichilov_MICU_20127: 20 alerts, 32 tags\n",
      "stay Ichilov_MICU_20128: 18 alerts, 8 tags\n",
      "stay Ichilov_MICU_20130: 12 alerts, no tags\n",
      "stay Ichilov_MICU_20131: 8 alerts, 1 tags\n",
      "stay Ichilov_MICU_20133: 7 alerts, 1 tags\n",
      "stay Ichilov_MICU_20134: 1 alerts, no tags\n",
      "stay Ichilov_MICU_20135: 35 alerts, 5 tags\n",
      "stay Ichilov_MICU_20136: 7 alerts, 5 tags\n",
      "stay Ichilov_MICU_20137: 2 alerts, no tags\n",
      "stay Ichilov_MICU_20138: 1 alerts, 3 tags\n",
      "stay Ichilov_MICU_20139: 17 alerts, 5 tags\n",
      "stay Ichilov_MICU_20140: 4 alerts, no tags\n",
      "stay Ichilov_MICU_20141: 25 alerts, 15 tags\n",
      "stay Ichilov_MICU_20142: 6 alerts, 2 tags\n",
      "stay Ichilov_MICU_20143: 1 alerts, no tags\n",
      "stay Ichilov_MICU_20144: 44 alerts, 52 tags\n",
      "stay Ichilov_MICU_20145: 37 alerts, 35 tags\n",
      "stay Ichilov_MICU_20146: 13 alerts, 10 tags\n",
      "stay Ichilov_MICU_20147: 15 alerts, 3 tags\n",
      "stay Ichilov_MICU_20149: 73 alerts, 35 tags\n",
      "stay Ichilov_MICU_20150: 1 alerts, no tags\n",
      "stay Ichilov_MICU_20151: 8 alerts, 30 tags\n",
      "stay Ichilov_MICU_20153: 1 alerts, 1 tags\n",
      "stay Ichilov_MICU_20154: 53 alerts, 26 tags\n",
      "stay Ichilov_MICU_20155: 47 alerts, 17 tags\n",
      "stay Ichilov_MICU_20156: 30 alerts, 80 tags\n",
      "stay Ichilov_MICU_20157: 8 alerts, 3 tags\n",
      "stay Ichilov_MICU_20159: 10 alerts, 3 tags\n",
      "stay Ichilov_MICU_20160: 88 alerts, no tags\n",
      "stay Ichilov_MICU_20161: 19 alerts, 2 tags\n",
      "stay Ichilov_MICU_20162: 3 alerts, no tags\n",
      "stay Ichilov_MICU_20163: 9 alerts, 2 tags\n",
      "stay Ichilov_MICU_20164: 32 alerts, no tags\n",
      "stay Ichilov_MICU_20165: 35 alerts, 24 tags\n",
      "stay Ichilov_MICU_20166: 15 alerts, no tags\n",
      "stay Ichilov_MICU_20167: 13 alerts, 5 tags\n",
      "stay Ichilov_MICU_20168: 1 alerts, no tags\n",
      "stay Ichilov_MICU_20170: 19 alerts, 48 tags\n",
      "stay Ichilov_MICU_20171: 4 alerts, no tags\n",
      "stay Ichilov_MICU_20174: 32 alerts, 5 tags\n",
      "stay Ichilov_MICU_20176: 5 alerts, 2 tags\n",
      "stay Ichilov_MICU_20177: 197 alerts, 123 tags\n",
      "stay Ichilov_MICU_20179: 21 alerts, 19 tags\n",
      "stay Ichilov_MICU_20180: 3 alerts, 2 tags\n",
      "stay Ichilov_MICU_20181: 5 alerts, 1 tags\n",
      "stay Ichilov_MICU_20182: 15 alerts, no tags\n",
      "stay Ichilov_MICU_20183: 7 alerts, 3 tags\n",
      "stay Ichilov_MICU_20184: 1 alerts, 1 tags\n",
      "stay Ichilov_MICU_20185: 6 alerts, 2 tags\n",
      "stay Ichilov_MICU_20186: 5 alerts, 1 tags\n",
      "stay Ichilov_MICU_20187: 4 alerts, 2 tags\n",
      "stay Ichilov_MICU_20188: 42 alerts, 13 tags\n",
      "stay Ichilov_MICU_20189: 9 alerts, 9 tags\n",
      "stay Ichilov_MICU_20190: 8 alerts, 2 tags\n",
      "stay Ichilov_MICU_20191: 38 alerts, 135 tags\n",
      "stay Ichilov_MICU_20192: 19 alerts, 14 tags\n",
      "stay Ichilov_MICU_20193: 16 alerts, 5 tags\n",
      "stay Ichilov_MICU_20194: 15 alerts, 9 tags\n",
      "stay Ichilov_MICU_20195: 8 alerts, 2 tags\n",
      "stay Ichilov_MICU_20196: 11 alerts, 2 tags\n",
      "stay Ichilov_MICU_20197: 20 alerts, 6 tags\n",
      "stay Ichilov_MICU_20198: 3 alerts, no tags\n",
      "stay Ichilov_MICU_20200: 50 alerts, 2 tags\n",
      "stay Ichilov_MICU_20201: 2 alerts, no tags\n",
      "stay Ichilov_MICU_20202: 39 alerts, 47 tags\n",
      "stay Ichilov_MICU_20203: 1 alerts, no tags\n",
      "stay Ichilov_MICU_20206: 46 alerts, 41 tags\n",
      "stay Ichilov_MICU_20207: 2 alerts, 1 tags\n",
      "stay Ichilov_MICU_20208: 2 alerts, no tags\n",
      "stay Ichilov_MICU_20210: 15 alerts, 63 tags\n",
      "stay Ichilov_MICU_20211: 3 alerts, 6 tags\n",
      "stay Ichilov_MICU_20212: 1 alerts, no tags\n",
      "stay Ichilov_MICU_20215: 4 alerts, no tags\n",
      "stay Ichilov_MICU_20216: 7 alerts, no tags\n",
      "stay Ichilov_MICU_20217: 4 alerts, 2 tags\n",
      "stay Ichilov_MICU_20218: 2 alerts, no tags\n",
      "stay Ichilov_MICU_20220: 16 alerts, 89 tags\n",
      "stay Ichilov_MICU_20222: 50 alerts, 6 tags\n",
      "stay Ichilov_MICU_20223: 4 alerts, no tags\n",
      "stay Ichilov_MICU_20224: 2 alerts, 2 tags\n",
      "stay Ichilov_MICU_20225: 47 alerts, 20 tags\n",
      "stay Ichilov_MICU_20227: 5 alerts, no tags\n"
     ]
    },
    {
     "ename": "KeyboardInterrupt",
     "evalue": "",
     "output_type": "error",
     "traceback": [
      "\u001b[0;31m---------------------------------------------------------------------------\u001b[0m",
      "\u001b[0;31mKeyboardInterrupt\u001b[0m                         Traceback (most recent call last)",
      "\u001b[0;32m<ipython-input-9-e17bfad743f1>\u001b[0m in \u001b[0;36m<module>\u001b[0;34m()\u001b[0m\n\u001b[1;32m      5\u001b[0m         \u001b[0mstay\u001b[0m \u001b[0;34m=\u001b[0m \u001b[0mm\u001b[0m\u001b[0;34m.\u001b[0m\u001b[0mgroup\u001b[0m\u001b[0;34m(\u001b[0m\u001b[0;36m1\u001b[0m\u001b[0;34m)\u001b[0m\u001b[0;34m\u001b[0m\u001b[0m\n\u001b[1;32m      6\u001b[0m         \u001b[0;32mwith\u001b[0m \u001b[0mopen\u001b[0m\u001b[0;34m(\u001b[0m\u001b[0mos\u001b[0m\u001b[0;34m.\u001b[0m\u001b[0mpath\u001b[0m\u001b[0;34m.\u001b[0m\u001b[0mjoin\u001b[0m\u001b[0;34m(\u001b[0m\u001b[0mDATA\u001b[0m\u001b[0;34m,\u001b[0m \u001b[0mfname\u001b[0m\u001b[0;34m)\u001b[0m\u001b[0;34m,\u001b[0m \u001b[0;34m\"rb\"\u001b[0m\u001b[0;34m)\u001b[0m \u001b[0;32mas\u001b[0m \u001b[0mf\u001b[0m\u001b[0;34m:\u001b[0m\u001b[0;34m\u001b[0m\u001b[0m\n\u001b[0;32m----> 7\u001b[0;31m             \u001b[0mdf\u001b[0m \u001b[0;34m=\u001b[0m \u001b[0mpickle\u001b[0m\u001b[0;34m.\u001b[0m\u001b[0mload\u001b[0m\u001b[0;34m(\u001b[0m\u001b[0mf\u001b[0m\u001b[0;34m)\u001b[0m\u001b[0;34m\u001b[0m\u001b[0m\n\u001b[0m\u001b[1;32m      8\u001b[0m \u001b[0;34m\u001b[0m\u001b[0m\n\u001b[1;32m      9\u001b[0m         \u001b[0mconcepts\u001b[0m \u001b[0;34m=\u001b[0m \u001b[0;34m[\u001b[0m\u001b[0mc\u001b[0m \u001b[0;32mfor\u001b[0m \u001b[0mc\u001b[0m \u001b[0;32min\u001b[0m \u001b[0mCONCEPTS\u001b[0m \u001b[0;32mif\u001b[0m \u001b[0mc\u001b[0m \u001b[0;34m+\u001b[0m \u001b[0;34m\"_mean\"\u001b[0m \u001b[0;32min\u001b[0m \u001b[0mset\u001b[0m\u001b[0;34m(\u001b[0m\u001b[0mdf\u001b[0m\u001b[0;34m.\u001b[0m\u001b[0mcolumns\u001b[0m\u001b[0;34m)\u001b[0m\u001b[0;34m]\u001b[0m\u001b[0;34m\u001b[0m\u001b[0m\n",
      "\u001b[0;32m/opt/anaconda/anaconda3/envs/ix/lib/python3.6/site-packages/pandas/core/indexes/base.py\u001b[0m in \u001b[0;36m_new_Index\u001b[0;34m(cls, d)\u001b[0m\n\u001b[1;32m     85\u001b[0m \u001b[0;34m\u001b[0m\u001b[0m\n\u001b[1;32m     86\u001b[0m \u001b[0;34m\u001b[0m\u001b[0m\n\u001b[0;32m---> 87\u001b[0;31m \u001b[0;32mdef\u001b[0m \u001b[0m_new_Index\u001b[0m\u001b[0;34m(\u001b[0m\u001b[0mcls\u001b[0m\u001b[0;34m,\u001b[0m \u001b[0md\u001b[0m\u001b[0;34m)\u001b[0m\u001b[0;34m:\u001b[0m\u001b[0;34m\u001b[0m\u001b[0m\n\u001b[0m\u001b[1;32m     88\u001b[0m     \"\"\" This is called upon unpickling, rather than the default which doesn't\n\u001b[1;32m     89\u001b[0m     \u001b[0mhave\u001b[0m \u001b[0marguments\u001b[0m \u001b[0;32mand\u001b[0m \u001b[0mbreaks\u001b[0m \u001b[0m__new__\u001b[0m\u001b[0;34m\u001b[0m\u001b[0m\n",
      "\u001b[0;31mKeyboardInterrupt\u001b[0m: "
     ]
    }
   ],
   "source": [
    "stay_alerts = {}\n",
    "for fname in sorted(os.listdir(DATA)):\n",
    "    m = re.match(\"^.*({})-predict-{}\\.pkl\".format(PATTERN, SUFFIX), fname)\n",
    "    if m:\n",
    "        stay = m.group(1)\n",
    "        with open(os.path.join(DATA, fname), \"rb\") as f:\n",
    "            df = pickle.load(f)\n",
    "\n",
    "        concepts = [c for c in CONCEPTS if c + \"_mean\" in set(df.columns)]\n",
    "        avg_nll = None\n",
    "        any_avail = None\n",
    "        any_counts = None\n",
    "        for c in concepts:\n",
    "            avail = numpy.logical_not(numpy.isnan(df[c]))\n",
    "\n",
    "            # Accumulate average perplexity\n",
    "            c_nll = df[c + \"_nll\"].copy()\n",
    "            c_nll[numpy.logical_not(avail)] = 0.\n",
    "            c_counts = c_nll.copy()\n",
    "            c_counts[:] = 0\n",
    "            c_counts[avail] = 1\n",
    "            if avg_nll is None:\n",
    "                avg_nll = c_nll\n",
    "                any_avail = avail\n",
    "                any_counts = c_counts\n",
    "            else:\n",
    "                avg_nll += c_nll\n",
    "                any_avail = numpy.logical_or(any_avail, avail)\n",
    "                any_counts += c_counts\n",
    "        avg_nll /= any_counts\n",
    "        \n",
    "        # Resample to the window size\n",
    "        win_nll = cutoff(avg_nll[any_avail]).resample(WINDOW).mean()\n",
    "        alerts = win_nll[win_nll >= NLL_THRESHOLD]\n",
    "        \n",
    "        # Extract alert records\n",
    "        alert_records = [{'stay': stay,\n",
    "                          'concept': 'nll', \n",
    "                          'time': str(time),\n",
    "                          'model': SUFFIX,\n",
    "                          'value': value} for time, value in alerts.items()]\n",
    "        if alert_records:\n",
    "            print(\"stay {}: {} alerts, {} tags\".format(stay, len(alert_records), \n",
    "                                                       len(stay_tags[stay])\n",
    "                                                       if stay in stay_tags \n",
    "                                                       else \"no\"))\n",
    "            stay_alerts[stay] = alert_records\n",
    "\n",
    "# Finally, we are ready to save alerts as pkl and json records.\n",
    "\n",
    "with open(STAY_ALERTS, \"wb\") as f:\n",
    "    pickle.dump(stay_alerts, f)\n",
    "\n",
    "with open(ALERT_RECORDS, \"w\") as f:\n",
    "    for alert_records in stay_alerts.values():\n",
    "        for rec in alert_records:\n",
    "            print(json.dumps(rec), file=f)"
   ]
  },
  {
   "cell_type": "markdown",
   "metadata": {},
   "source": [
    "A scatter plot of #alerts vs #tags shows how correlated things are. "
   ]
  },
  {
   "cell_type": "code",
   "execution_count": 517,
   "metadata": {
    "scrolled": false
   },
   "outputs": [
    {
     "data": {
      "text/plain": [
       "<matplotlib.text.Text at 0x7f276552f0b8>"
      ]
     },
     "execution_count": 517,
     "metadata": {},
     "output_type": "execute_result"
    },
    {
     "data": {
      "image/png": "[encoded data removed]",
      "text/plain": [
       "<matplotlib.figure.Figure at 0x7f275d1c19e8>"
      ]
     },
     "metadata": {},
     "output_type": "display_data"
    }
   ],
   "source": [
    "with open(STAY_ALERTS, \"rb\") as f:\n",
    "    stay_alerts = pickle.load(f)\n",
    "\n",
    "stays = stay_alerts.keys()\n",
    "alert_counts = numpy.array([len(stay_alerts[stay]) for stay in stays])\n",
    "tag_counts = numpy.array([len(stay_tags[stay]) if stay in stay_tags else 0 for stay in stays])\n",
    "shock_counts = numpy.array([len([x for x in stay_tags[stay] if x['concept'] == 'deterioration_shock']) if stay in stay_tags else 0 for stay in stays])\n",
    "fig, ax = plt.subplots(2, 2)\n",
    "fig.set_figwidth(12)\n",
    "fig.set_figheight(12)\n",
    "\n",
    "ax[0][0].scatter(alert_counts + 1, tag_counts + 1)\n",
    "ax[0][0].set_title(\"all tags\")\n",
    "ax[0][0].set_xlabel(\"alerts\")\n",
    "ax[0][0].set_ylabel(\"tags\")\n",
    "ax[0][0].set_xscale('log')\n",
    "ax[0][0].set_yscale('log')\n",
    "ax[0][1].hist(numpy.log((tag_counts + 1)/(alert_counts + 1)), edgecolor='tab:blue', normed=True)\n",
    "ax[0][1].set_xlabel('log(tags/alerts)')\n",
    "\n",
    "ax[1][0].scatter(alert_counts + 1, shock_counts + 1)\n",
    "ax[1][0].set_title(\"deterioration shock\")\n",
    "ax[1][0].set_xlabel(\"alerts\")\n",
    "ax[1][0].set_ylabel(\"shocks\")\n",
    "ax[1][0].set_xscale('log')\n",
    "ax[1][0].set_yscale('log')\n",
    "ax[1][1].hist(numpy.log((shock_counts + 1)/(alert_counts + 1)), edgecolor='tab:blue', normed=True)\n",
    "ax[1][1].set_xlabel('log(shocks/alerts)')"
   ]
  },
  {
   "cell_type": "code",
   "execution_count": 592,
   "metadata": {
    "collapsed": true
   },
   "outputs": [],
   "source": [
    "LOOKAHEAD = '12 hours'\n",
    "LEADTIME = ['0 minutes', '30 minutes', '2 hours'][1]\n",
    "\n",
    "def label_alerts(stays, lookahead=LOOKAHEAD, leadtime=LEADTIME):\n",
    "    TP = 0\n",
    "    FP = 0\n",
    "    leads = []\n",
    "    labeled_stay_alerts = {}\n",
    "    for stayid in stays:\n",
    "        if stayid in stay_tags:\n",
    "            alert_times = sorted(set([alert['time'] for alert in stay_alerts[stayid]]))\n",
    "            alerts = pandas.DataFrame({'time': alert_times, 'alert': [1] * len(alert_times)})\n",
    "            alerts['time'] = pandas.to_datetime(alerts['time'])\n",
    "            alerts = alerts.set_index('time')\n",
    "\n",
    "            tag_times = sorted(set([tag['time'] for tag in stay_tags[stayid]]))\n",
    "            tags = pandas.DataFrame({'time': tag_times, 'tag': [1] * len(tag_times)})\n",
    "            tags['time'] = pandas.to_datetime(tags['time'])\n",
    "            tags = tags.set_index('time')\n",
    "\n",
    "            tag_alerts = pandas.concat([alerts, tags], axis=1)\n",
    "            tag_alerts[numpy.isnan(tag_alerts)] = 0\n",
    "\n",
    "            tag_alerts['calert'] = tag_alerts['alert'].cumsum()/tag_alerts['alert'].sum()\n",
    "            tag_alerts['ctag'] = tag_alerts['tag'].cumsum()/tag_alerts['tag'].sum()\n",
    "\n",
    "            labeled_stay_alerts[stayid] = []\n",
    "            for i in range(len(tag_alerts)):\n",
    "                if tag_alerts['alert'][i]:\n",
    "                    j = i + 1\n",
    "                    while True:\n",
    "                        if j == len(tag_alerts):\n",
    "                            label = 0\n",
    "                            FP += 1\n",
    "                            break\n",
    "                        if tag_alerts.index[j] - tag_alerts.index[i] > pandas.Timedelta(lookahead):\n",
    "                            FP += 1\n",
    "                            label = 0\n",
    "                            break\n",
    "                        if tag_alerts.index[j] - tag_alerts.index[i] >= pandas.Timedelta(leadtime) and \\\n",
    "                           tag_alerts['tag'][j]:\n",
    "                            label = 1\n",
    "                            leads.append((tag_alerts.index[j] - tag_alerts.index[i]).seconds/3600)\n",
    "                            TP += 1\n",
    "                            break\n",
    "                        j += 1\n",
    "                    labeled_stay_alerts[stayid].append({\n",
    "                        'stay': stayid,\n",
    "                        'time': str(tag_alerts.index[i]),\n",
    "                        'label': label})\n",
    "\n",
    "            else:\n",
    "                FP += len(alert_times)\n",
    "            \n",
    "    return TP, FP, labeled_stay_alerts, leads"
   ]
  },
  {
   "cell_type": "code",
   "execution_count": 593,
   "metadata": {},
   "outputs": [
    {
     "name": "stdout",
     "output_type": "stream",
     "text": [
      "642 3032\n"
     ]
    }
   ],
   "source": [
    "TP, FP, labeled_stay_alerts, leads = label_alerts(list(stay_alerts.keys())[:100])\n",
    "print(TP, FP)"
   ]
  },
  {
   "cell_type": "code",
   "execution_count": 594,
   "metadata": {},
   "outputs": [
    {
     "data": {
      "text/plain": [
       "(array([ 103.,  103.,   87.,   86.,   67.,   50.,   44.,   46.,   31.,   25.]),\n",
       " array([  0.5 ,   1.65,   2.8 ,   3.95,   5.1 ,   6.25,   7.4 ,   8.55,\n",
       "          9.7 ,  10.85,  12.  ]),\n",
       " <a list of 10 Patch objects>)"
      ]
     },
     "execution_count": 594,
     "metadata": {},
     "output_type": "execute_result"
    },
    {
     "data": {
      "image/png": "[encoded data removed]",
      "text/plain": [
       "<matplotlib.figure.Figure at 0x7f2764ad15c0>"
      ]
     },
     "metadata": {},
     "output_type": "display_data"
    }
   ],
   "source": [
    "plt.hist(leads)"
   ]
  },
  {
   "cell_type": "markdown",
   "metadata": {},
   "source": [
    "```\n",
    "30 minutes - 12 hours\n",
    "---------------------\n",
    "\n",
    "model      | TP    | FP     | PPV\n",
    "----------------------------------\n",
    "rnn-128-3  | 41559 | 135224 | 0.235\n",
    "grnn-128-3 | 40898 | 138789 | 0.228\n",
    "rnn-256-4  | 27745 | 142274 | 0.163  #  not trained optimally?\n",
    "```"
   ]
  },
  {
   "cell_type": "markdown",
   "metadata": {},
   "source": [
    "Let's create a dataset for fiddling with data."
   ]
  },
  {
   "cell_type": "code",
   "execution_count": 604,
   "metadata": {
    "collapsed": true
   },
   "outputs": [],
   "source": [
    "NSTAYS = 1000"
   ]
  },
  {
   "cell_type": "markdown",
   "metadata": {},
   "source": [
    "Just some randomly chosen stays with alerts."
   ]
  },
  {
   "cell_type": "code",
   "execution_count": 605,
   "metadata": {
    "collapsed": true
   },
   "outputs": [],
   "source": [
    "somestays = numpy.random.choice(list(stay_alerts.keys()), size=NSTAYS, replace=False)"
   ]
  },
  {
   "cell_type": "markdown",
   "metadata": {},
   "source": [
    "Let's see how many alerts are there. "
   ]
  },
  {
   "cell_type": "code",
   "execution_count": 612,
   "metadata": {},
   "outputs": [
    {
     "name": "stdout",
     "output_type": "stream",
     "text": [
      "TP=5955, FP=29677\n"
     ]
    }
   ],
   "source": [
    "TP, FP, labeled_somestay_alerts, someleads = label_alerts(somestays)\n",
    "print(\"TP={}, FP={}\".format(TP, FP))\n"
   ]
  },
  {
   "cell_type": "code",
   "execution_count": 616,
   "metadata": {
    "collapsed": true
   },
   "outputs": [],
   "source": [
    "with open(LABELED_SOMESTAY_ALERTS, \"wb\") as f:\n",
    "    pickle.dump(labeled_somestay_alerts, f)\n",
    "\n",
    "with open(SOMESTAYS, \"w\") as f:\n",
    "    for s in somestays:\n",
    "        print(s, file=f)"
   ]
  }
 ],
 "metadata": {
  "kernelspec": {
   "display_name": "Python 3",
   "language": "python",
   "name": "python3"
  },
  "language_info": {
   "codemirror_mode": {
    "name": "ipython",
    "version": 3
   },
   "file_extension": ".py",
   "mimetype": "text/x-python",
   "name": "python",
   "nbconvert_exporter": "python",
   "pygments_lexer": "ipython3",
   "version": "3.7.2"
  }
 },
 "nbformat": 4,
 "nbformat_minor": 2
}
