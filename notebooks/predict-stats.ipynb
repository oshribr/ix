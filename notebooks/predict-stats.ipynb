{
 "cells": [
  {
   "cell_type": "code",
   "execution_count": 8,
   "metadata": {
    "collapsed": true
   },
   "outputs": [],
   "source": [
    "import re\n",
    "import matplotlib.pyplot as plt\n",
    "%matplotlib inline"
   ]
  },
  {
   "cell_type": "code",
   "execution_count": 12,
   "metadata": {
    "collapsed": true
   },
   "outputs": [],
   "source": [
    "PREDICTLOG = \"../logs/predict-Mayo-HR,SpO2,InvBPSys,InvBPDias,RRtotal-5,15,30:1-rnn-128-3-0.5.log\""
   ]
  },
  {
   "cell_type": "code",
   "execution_count": 13,
   "metadata": {},
   "outputs": [
    {
     "name": "stdout",
     "output_type": "stream",
     "text": [
      "could not convert string to float: 'avg'\n",
      "could not convert string to float: 'data/monitor-dataset-Mayo_MICU_O4O894A_20380522.pkl'\n",
      "could not convert string to float: 'std:'\n"
     ]
    }
   ],
   "source": [
    "nlls = {5: [], 15: [], 30: []}\n",
    "stds = {5: [], 15: [], 30: []}\n",
    "with open(PREDICTLOG) as f:\n",
    "    for line in f:\n",
    "        words = line.split()\n",
    "        try:\n",
    "            depth = int(words[0])\n",
    "            std = float(words[5])\n",
    "            nll = float(words[8])\n",
    "            if str(std) != 'nan':\n",
    "                stds[depth].append(std)\n",
    "            if str(nll) != 'nan':\n",
    "                nlls[depth].append(nll)\n",
    "        except Exception as e:\n",
    "            print(e)"
   ]
  },
  {
   "cell_type": "markdown",
   "metadata": {},
   "source": [
    "## Negative log-likelihood"
   ]
  },
  {
   "cell_type": "code",
   "execution_count": 14,
   "metadata": {
    "scrolled": false
   },
   "outputs": [
    {
     "data": {
      "text/plain": [
       "<matplotlib.legend.Legend at 0x7fcdb8bada20>"
      ]
     },
     "execution_count": 14,
     "metadata": {},
     "output_type": "execute_result"
    },
    {
     "data": {
      "image/png": "[encoded data removed]",
      "text/plain": [
       "<matplotlib.figure.Figure at 0x7fcdb8bad780>"
      ]
     },
     "metadata": {},
     "output_type": "display_data"
    }
   ],
   "source": [
    "for k in sorted(nlls.keys()):\n",
    "    plt.hist(nlls[k], fill=False, histtype='step', normed=True,\n",
    "             label=format(\"{}: mean = {:4f}\".format(k, sum(nlls[k])/len(nlls[k]))))\n",
    "    plt.xlim((-3,5))\n",
    "plt.legend()"
   ]
  },
  {
   "cell_type": "markdown",
   "metadata": {},
   "source": [
    "## Standard deviation"
   ]
  },
  {
   "cell_type": "code",
   "execution_count": 15,
   "metadata": {
    "scrolled": true
   },
   "outputs": [
    {
     "data": {
      "text/plain": [
       "<matplotlib.legend.Legend at 0x7fcdb5614a58>"
      ]
     },
     "execution_count": 15,
     "metadata": {},
     "output_type": "execute_result"
    },
    {
     "data": {
      "image/png": "[encoded data removed]",
      "text/plain": [
       "<matplotlib.figure.Figure at 0x7fcdb5614320>"
      ]
     },
     "metadata": {},
     "output_type": "display_data"
    }
   ],
   "source": [
    "for k in sorted(stds.keys()):\n",
    "    plt.hist(stds[k], histtype='step', normed=True,\n",
    "             label=format(\"{}: mean = {:4f}\".format(k, sum(stds[k])/len(stds[k]))))\n",
    "plt.legend()"
   ]
  },
  {
   "cell_type": "code",
   "execution_count": null,
   "metadata": {
    "collapsed": true
   },
   "outputs": [],
   "source": []
  }
 ],
 "metadata": {
  "kernelspec": {
   "display_name": "Python 3",
   "language": "python",
   "name": "python3"
  },
  "language_info": {
   "codemirror_mode": {
    "name": "ipython",
    "version": 3
   },
   "file_extension": ".py",
   "mimetype": "text/x-python",
   "name": "python",
   "nbconvert_exporter": "python",
   "pygments_lexer": "ipython3",
   "version": "3.6.3"
  }
 },
 "nbformat": 4,
 "nbformat_minor": 2
}
