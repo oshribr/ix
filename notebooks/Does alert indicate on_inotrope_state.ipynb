{
 "cells": [
  {
   "cell_type": "code",
   "execution_count": 2037,
   "metadata": {
    "collapsed": true
   },
   "outputs": [],
   "source": [
    "import csv\n",
    "import numpy"
   ]
  },
  {
   "cell_type": "code",
   "execution_count": 2038,
   "metadata": {
    "collapsed": true
   },
   "outputs": [],
   "source": [
    "CONFUSIONS = \"../confusions-inotrope-600-160.csv\"\n",
    "# CONFUSIONS = \"../confusions-inotrope-480-120.csv\"\n",
    "CONFUSIONS = \"../confusions-deterioration_shock-480-120.csv\""
   ]
  },
  {
   "cell_type": "code",
   "execution_count": 2039,
   "metadata": {},
   "outputs": [],
   "source": [
    "with open(CONFUSIONS, \"r\") as f:\n",
    "    rdr = csv.reader(f, quoting=csv.QUOTE_NONNUMERIC)\n",
    "    confusions = numpy.array(list(rdr))"
   ]
  },
  {
   "cell_type": "code",
   "execution_count": 2040,
   "metadata": {
    "scrolled": true
   },
   "outputs": [
    {
     "data": {
      "text/plain": [
       "array([[ 0.,  0.,  0.,  1.],\n",
       "       [ 0.,  0.,  0.,  1.],\n",
       "       [ 0.,  0.,  1.,  0.],\n",
       "       ..., \n",
       "       [ 0.,  0.,  0.,  1.],\n",
       "       [ 0.,  0.,  0.,  1.],\n",
       "       [ 0.,  0.,  0.,  1.]])"
      ]
     },
     "execution_count": 2040,
     "metadata": {},
     "output_type": "execute_result"
    }
   ],
   "source": [
    "confusions\n",
    "# Columns are:\n",
    "#\n",
    "#   Tag & Alert, Tag & ~Alert, ~Tag & Alert, ~Tag & ~Alert"
   ]
  },
  {
   "cell_type": "code",
   "execution_count": 2041,
   "metadata": {},
   "outputs": [
    {
     "data": {
      "text/plain": [
       "array([  406.,   273.,  1405.,  1411.])"
      ]
     },
     "execution_count": 2041,
     "metadata": {},
     "output_type": "execute_result"
    }
   ],
   "source": [
    "totals = confusions.sum(axis=0)\n",
    "totals"
   ]
  },
  {
   "cell_type": "markdown",
   "metadata": {},
   "source": [
    "\n",
    "```\n",
    "P(Tag|Alert) = P(Tag and Alert)/(P(Alert and Tag) + P(Alert and ~Tag))\n",
    "P(Tag|~Alert) = P(Tag and ~Alert)/(P(~Alert and Tag) + P(~Alert and ~Tag))\n",
    "```"
   ]
  },
  {
   "cell_type": "code",
   "execution_count": 2042,
   "metadata": {},
   "outputs": [
    {
     "data": {
      "text/plain": [
       "0.22418553285477635"
      ]
     },
     "execution_count": 2042,
     "metadata": {},
     "output_type": "execute_result"
    }
   ],
   "source": [
    "# Tag given alert\n",
    "totals[0]/(totals[0] + totals[2])"
   ]
  },
  {
   "cell_type": "code",
   "execution_count": 2043,
   "metadata": {},
   "outputs": [
    {
     "data": {
      "text/plain": [
       "0.83788598574821849"
      ]
     },
     "execution_count": 2043,
     "metadata": {},
     "output_type": "execute_result"
    }
   ],
   "source": [
    "# No tag given no alert\n",
    "totals[3]/(totals[1] + totals[3])"
   ]
  },
  {
   "cell_type": "code",
   "execution_count": 2044,
   "metadata": {},
   "outputs": [
    {
     "data": {
      "text/plain": [
       "0.16211401425178149"
      ]
     },
     "execution_count": 2044,
     "metadata": {},
     "output_type": "execute_result"
    }
   ],
   "source": [
    "# Tag given no alert\n",
    "totals[1]/(totals[1] + totals[3])"
   ]
  },
  {
   "cell_type": "code",
   "execution_count": 2045,
   "metadata": {},
   "outputs": [
    {
     "data": {
      "text/plain": [
       "0.77581446714522362"
      ]
     },
     "execution_count": 2045,
     "metadata": {},
     "output_type": "execute_result"
    }
   ],
   "source": [
    "# No tag given alert\n",
    "totals[2]/(totals[0] + totals[2] )"
   ]
  }
 ],
 "metadata": {
  "kernelspec": {
   "display_name": "Python 3",
   "language": "python",
   "name": "python3"
  },
  "language_info": {
   "codemirror_mode": {
    "name": "ipython",
    "version": 3
   },
   "file_extension": ".py",
   "mimetype": "text/x-python",
   "name": "python",
   "nbconvert_exporter": "python",
   "pygments_lexer": "ipython3",
   "version": "3.6.3"
  }
 },
 "nbformat": 4,
 "nbformat_minor": 2
}
